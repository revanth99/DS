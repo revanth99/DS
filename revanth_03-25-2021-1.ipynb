{
 "cells": [
  {
   "cell_type": "code",
   "execution_count": 23,
   "metadata": {},
   "outputs": [],
   "source": [
    "# Exercise 16.1\n",
    "class Time:\n",
    "    \"\"\"Represents the time of day.\n",
    "    attributes: hour, minute, second\n",
    "    \"\"\"\n",
    "def print_time(t):\n",
    "    \"\"\"Prints a string representation of the time.\n",
    "    t: Time object\n",
    "    \"\"\"\n",
    "    print('%.2d:%.2d:%.2d' % (t.hour, t.minute, t.second))"
   ]
  },
  {
   "cell_type": "code",
   "execution_count": 24,
   "metadata": {},
   "outputs": [],
   "source": [
    "def valid_time(time):\n",
    "    if time.hour < 0 or time.minute < 0 or time.second < 0:\n",
    "        return False\n",
    "    if time.minute >= 60 or time.second >= 60:\n",
    "        return False\n",
    "    return True\n",
    "\n",
    "def time_to_int(time):\n",
    "    minutes = time.hour * 60 + time.minute\n",
    "    seconds = minutes * 60 + time.second\n",
    "    return seconds\n",
    "def int_to_time(seconds):\n",
    "    minutes, time.second = divmod(seconds, 60)\n",
    "    time.hour, time.minute = divmod(minutes, 60)\n",
    "    return time\n",
    "def mul_tim(time,a):\n",
    "    if not valid_time(time):\n",
    "        raise ValueError('invalid Time object in add_time')\n",
    "    seconds = time_to_int(time) *a\n",
    "    return print_time(int_to_time(seconds))\n",
    "    \n"
   ]
  },
  {
   "cell_type": "code",
   "execution_count": 27,
   "metadata": {},
   "outputs": [
    {
     "name": "stdout",
     "output_type": "stream",
     "text": [
      "10:15:10\n"
     ]
    }
   ],
   "source": [
    "time = Time()\n",
    "time.hour = 2\n",
    "time.minute = 3\n",
    "time.second = 2\n",
    "mul_tim(time,5)"
   ]
  },
  {
   "cell_type": "code",
   "execution_count": 26,
   "metadata": {},
   "outputs": [
    {
     "name": "stdout",
     "output_type": "stream",
     "text": [
      "Half marathon time 01:34:05\n",
      "Time per mile 00:15:40\n"
     ]
    }
   ],
   "source": [
    "race_time = Time()\n",
    "race_time.hour = 1\n",
    "race_time.minute = 34\n",
    "race_time.second = 5\n",
    "print('Half marathon time', end=' ')\n",
    "print_time(race_time)\n",
    "distance = 6  # miles\n",
    "print('Time per mile', end=' ')\n",
    "pace = mul_tim(race_time, 1/distance)\n"
   ]
  },
  {
   "cell_type": "code",
   "execution_count": 5,
   "metadata": {},
   "outputs": [
    {
     "name": "stdout",
     "output_type": "stream",
     "text": [
      "Today's date and the day of the week:\n",
      "2021-03-30 15:14:25.769013\n",
      "Tuesday\n"
     ]
    }
   ],
   "source": [
    "# Exercise 16.2\n",
    "from datetime import datetime\n",
    "import time\n",
    "from datetime import date\n",
    "print(\"Today's date and the day of the week:\")\n",
    "today = datetime.today()\n",
    "print(today)\n",
    "print(today.strftime(\"%A\"))\n"
   ]
  },
  {
   "cell_type": "code",
   "execution_count": 9,
   "metadata": {},
   "outputs": [
    {
     "name": "stdout",
     "output_type": "stream",
     "text": [
      "Enter your birthday in mm/dd/yyyy format: 08/09/1997\n",
      "2021-08-09 00:00:00\n",
      "Your next birthday and how far away it is:\n",
      "131 days, 8:45:34.230987\n",
      "Your current age:\n",
      "23\n"
     ]
    }
   ],
   "source": [
    "s = input('Enter your birthday in mm/dd/yyyy format: ')\n",
    "#s= '08/09/1997'\n",
    "bday = datetime.strptime(s, '%m/%d/%Y')\n",
    "next_bday  = bday.replace(year=today.year)\n",
    "if next_bday < today:\n",
    "    next_bday = next_bday.replace(year=today.year+1)\n",
    "print(next_bday)\n",
    "until_next_bday = next_bday - today\n",
    "print(\"Your next birthday and how far away it is:\")\n",
    "print(until_next_bday)\n",
    "print(\"Your current age:\")\n",
    "last_bday = next_bday.replace(year=next_bday.year-1)\n",
    "age = last_bday.year - bday.year\n",
    "print(age)"
   ]
  },
  {
   "cell_type": "code",
   "execution_count": 19,
   "metadata": {},
   "outputs": [
    {
     "name": "stdout",
     "output_type": "stream",
     "text": [
      "For people born on these dates:\n",
      "1997-03-10 00:00:00\n",
      "1996-08-09 00:00:00\n",
      "Double Day is\n",
      "1997-10-09 00:00:00\n"
     ]
    }
   ],
   "source": [
    "print(\"For people born on these dates:\")\n",
    "bday1 = datetime(day=10, month=3, year=1997)\n",
    "bday2 = datetime(day=9, month=8, year=1996)\n",
    "print(bday1)\n",
    "print(bday2)\n",
    "print(\"Double Day is\")\n",
    "d1 = min(bday1, bday2)\n",
    "d2 = max(bday1, bday2)\n",
    "dd = d2 + (d2 - d1)\n",
    "print(dd)"
   ]
  },
  {
   "cell_type": "code",
   "execution_count": 12,
   "metadata": {},
   "outputs": [],
   "source": [
    "# Exercise 17.1\n",
    "class Time:\n",
    "    \"\"\"Represents the time of day.\n",
    "       \n",
    "    attributes: hour, minute, second\n",
    "    \"\"\"\n",
    "    def __init__(self, hour=0, minute=0, second=0):\n",
    "        \"\"\"Initializes a time object.\n",
    "        hour: int\n",
    "        minute: int\n",
    "        second: int or float\n",
    "        \"\"\"\n",
    "        minutes = hour * 60 + minute\n",
    "        self.seconds = minutes * 60 + second\n",
    "\n",
    "    def __str__(self):\n",
    "        \"\"\"Returns a string representation of the time.\"\"\"\n",
    "        minutes, second = divmod(self.seconds, 60)\n",
    "        hour, minute = divmod(minutes, 60)\n",
    "        return '%.2d:%.2d:%.2d' % (hour, minute, second)\n",
    "\n",
    "    def print_time(self):\n",
    "        \"\"\"Prints a string representation of the time.\"\"\"\n",
    "        print(str(self))\n",
    "\n",
    "    def time_to_int(self):\n",
    "        \"\"\"Computes the number of seconds since midnight.\"\"\"\n",
    "        return self.seconds\n",
    "\n",
    "    def is_after(self, other):\n",
    "        \"\"\"Returns True if t1 is after t2; false otherwise.\"\"\"\n",
    "        return self.seconds > other.seconds\n",
    "\n",
    "    def __add__(self, other):\n",
    "        \"\"\"Adds two Time objects or a Time object and a number.\n",
    "        other: Time object or number of seconds\n",
    "        \"\"\"\n",
    "        if isinstance(other, Time):\n",
    "            return self.add_time(other)\n",
    "        else:\n",
    "            return self.increment(other)\n",
    "\n",
    "    def __radd__(self, other):\n",
    "        \"\"\"Adds two Time objects or a Time object and a number.\"\"\"\n",
    "        return self.__add__(other)\n",
    "\n",
    "    def add_time(self, other):\n",
    "        \"\"\"Adds two time objects.\"\"\"\n",
    "        assert self.is_valid() and other.is_valid()\n",
    "        seconds = self.seconds + other.seconds\n",
    "        return int_to_time(seconds)\n",
    "\n",
    "    def increment(self, seconds):\n",
    "        \"\"\"Returns a new Time that is the sum of this time and seconds.\"\"\"\n",
    "        seconds += self.seconds\n",
    "        return int_to_time(seconds)\n",
    "\n",
    "    def is_valid(self):\n",
    "        \"\"\"Checks whether a Time object satisfies the invariants.\"\"\"\n",
    "        return self.seconds >= 0 and self.seconds < 24*60*60\n",
    "\n",
    "\n",
    "def int_to_time(seconds):\n",
    "    \"\"\"Makes a new Time object.\n",
    "    seconds: int seconds since midnight.\n",
    "    \"\"\"\n",
    "    return Time(0, 0, seconds)\n",
    "\n",
    "\n",
    "    "
   ]
  },
  {
   "cell_type": "code",
   "execution_count": 14,
   "metadata": {},
   "outputs": [],
   "source": [
    "def main():\n",
    "    start = Time(9, 45, 00)\n",
    "    start.print_time()\n",
    "\n",
    "    end = start.increment(1337)\n",
    "    #end = start.increment(1337, 460)\n",
    "    end.print_time()\n",
    "\n",
    "    print('Is end after start?')\n",
    "    print(end.is_after(start))\n",
    "\n",
    "    print('Using __str__')\n",
    "    print(start, end)\n",
    "\n",
    "    start = Time(9, 45)\n",
    "    duration = Time(1, 35)\n",
    "    print(start + duration)\n",
    "    print(start + 1337)\n",
    "    print(1337 + start)\n",
    "\n",
    "    print('Example of polymorphism')\n",
    "    t1 = Time(7, 43)\n",
    "    t2 = Time(7, 41)\n",
    "    t3 = Time(7, 37)\n",
    "    total = sum([t1, t2, t3])\n",
    "    print(total)"
   ]
  },
  {
   "cell_type": "code",
   "execution_count": 15,
   "metadata": {},
   "outputs": [
    {
     "name": "stdout",
     "output_type": "stream",
     "text": [
      "09:45:00\n",
      "10:07:17\n",
      "Is end after start?\n",
      "True\n",
      "Using __str__\n",
      "09:45:00 10:07:17\n",
      "11:20:00\n",
      "10:07:17\n",
      "10:07:17\n",
      "Example of polymorphism\n",
      "23:01:00\n"
     ]
    }
   ],
   "source": [
    "main()"
   ]
  },
  {
   "cell_type": "code",
   "execution_count": null,
   "metadata": {},
   "outputs": [],
   "source": []
  },
  {
   "cell_type": "code",
   "execution_count": null,
   "metadata": {},
   "outputs": [],
   "source": []
  },
  {
   "cell_type": "code",
   "execution_count": null,
   "metadata": {},
   "outputs": [],
   "source": []
  }
 ],
 "metadata": {
  "kernelspec": {
   "display_name": "Python 3",
   "language": "python",
   "name": "python3"
  },
  "language_info": {
   "codemirror_mode": {
    "name": "ipython",
    "version": 3
   },
   "file_extension": ".py",
   "mimetype": "text/x-python",
   "name": "python",
   "nbconvert_exporter": "python",
   "pygments_lexer": "ipython3",
   "version": "3.8.5"
  }
 },
 "nbformat": 4,
 "nbformat_minor": 4
}
