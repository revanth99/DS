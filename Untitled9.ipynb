{
 "cells": [
  {
   "cell_type": "code",
   "execution_count": 6,
   "metadata": {},
   "outputs": [
    {
     "name": "stdout",
     "output_type": "stream",
     "text": [
      "(3, 2)\n",
      "The center of the data\n",
      " [[ 0.21764288 -0.07254763]\n",
      " [ 0.36273813 -0.36273813]\n",
      " [ 0.50783338 -0.65292863]]\n",
      "The co-variance of the matrix\n",
      " [[0.04210526 0.10526316 0.16842105]\n",
      " [0.10526316 0.26315789 0.42105263]\n",
      " [0.16842105 0.42105263 0.67368421]]\n",
      "the eigen values\n",
      " [-1.14565964e-16  2.25588267e-16  9.78947368e-01]\n",
      "the eigen vectors\n",
      " [[-0.09984854 -0.97314928  0.20739034]\n",
      " [ 0.85478853  0.02278941  0.51847585]\n",
      " [-0.5092807   0.22904394  0.82956136]]\n",
      "[ 0.97758008 -0.07826968 -0.19547647]\n",
      "the given data set  with reduced dimensions\n",
      " [0.93844524 0.93844524]\n"
     ]
    }
   ],
   "source": [
    "import numpy as np\n",
    "my_data = np.array([[2,3,4],[0,-2,-4]])\n",
    "my_data = my_data.T\n",
    "A = (my_data - np.mean(my_data))\n",
    "print(A.shape)\n",
    "A= A/np.linalg.norm(A)\n",
    "print('The center of the data\\n',A)\n",
    "A=np.cov(A)\n",
    "print('The co-variance of the matrix\\n',A)\n",
    "e,v= np.linalg.eigh(A)\n",
    "print('the eigen values\\n',e)\n",
    "print('the eigen vectors\\n',v)\n",
    "u,s,v = np.linalg.svd(A)\n",
    "print(u[:,1])\n",
    "APC= np.dot(u[:,1],my_data)\n",
    "print(\"the given data set  with reduced dimensions\\n\",APC)"
   ]
  },
  {
   "cell_type": "code",
   "execution_count": null,
   "metadata": {},
   "outputs": [],
   "source": []
  }
 ],
 "metadata": {
  "kernelspec": {
   "display_name": "Python 3",
   "language": "python",
   "name": "python3"
  }
 },
 "nbformat": 4,
 "nbformat_minor": 4
}
