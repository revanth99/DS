{
 "cells": [
  {
   "cell_type": "code",
   "execution_count": 1,
   "metadata": {},
   "outputs": [],
   "source": [
    "import numpy as np\n",
    "import pandas as pd\n",
    "from numpy import genfromtxt\n",
    "import matplotlib.pyplot as plt"
   ]
  },
  {
   "cell_type": "code",
   "execution_count": 2,
   "metadata": {},
   "outputs": [
    {
     "name": "stdout",
     "output_type": "stream",
     "text": [
      "(2, 3)\n"
     ]
    }
   ],
   "source": [
    "X = genfromtxt('S21_M4DS_PRJ_04_ANN_X.csv', delimiter=',')\n",
    "y= genfromtxt('S21_M4DS_PRJ_04_ANN_y.csv', delimiter=',')\n",
    "n_input_dim, n_output_dim, = 2, 2\n",
    "n_h1_dim = 3\n",
    "W1 = np.random.randn(n_input_dim, n_h1_dim)/np.sqrt(n_input_dim)\n",
    "W3 = np.random.randn(2, 1)/np.sqrt(2)\n",
    "W2 = np.random.randn(3, 2)/np.sqrt(3)\n",
    "b1 = np.zeros((1, n_h1_dim))\n",
    "b2 = np.zeros((1, n_output_dim))\n",
    "b3 = np.zeros((199, 1))\n",
    "def sigmoid(x):\n",
    "    a = 1/(1 + np.exp(-x))\n",
    "    return a\n",
    "def act_der(x):\n",
    "    a = sigmoid(x)*(1-sigmoid(x))\n",
    "    return a\n",
    "# z1 = X.dot(W1) + b1\n",
    "# a1 = sigmoid(z1)\n",
    "# z2 = a1.dot(W2) + b2\n",
    "# a2 = sigmoid(z2)\n",
    "model = { \n",
    "'W1': W1, 'b1': b1,'a1':sigmoid,'W2': W2, 'b2': b2,'a2':sigmoid,'W3': W3, 'b3': b3,'a3':sigmoid\n",
    "}\n",
    "def cost_function_R(a3,y):\n",
    "    m = len(y)\n",
    "    cost = 1/(2*m)* np.sum(np.square(a3-y))\n",
    "    return cost\n",
    "\n",
    "print(np.shape(W1))"
   ]
  },
  {
   "cell_type": "code",
   "execution_count": 3,
   "metadata": {},
   "outputs": [
    {
     "ename": "ValueError",
     "evalue": "operands could not be broadcast together with shapes (200,1) (199,1) ",
     "output_type": "error",
     "traceback": [
      "\u001b[1;31m---------------------------------------------------------------------------\u001b[0m",
      "\u001b[1;31mValueError\u001b[0m                                Traceback (most recent call last)",
      "\u001b[1;32m<ipython-input-3-9e183e13b7bc>\u001b[0m in \u001b[0;36m<module>\u001b[1;34m\u001b[0m\n\u001b[0;32m     15\u001b[0m     \u001b[0ma2\u001b[0m \u001b[1;33m=\u001b[0m \u001b[0msigmoid\u001b[0m\u001b[1;33m(\u001b[0m\u001b[0mz2\u001b[0m\u001b[1;33m)\u001b[0m\u001b[1;33m\u001b[0m\u001b[1;33m\u001b[0m\u001b[0m\n\u001b[0;32m     16\u001b[0m \u001b[1;33m\u001b[0m\u001b[0m\n\u001b[1;32m---> 17\u001b[1;33m     \u001b[0mz3\u001b[0m \u001b[1;33m=\u001b[0m \u001b[0ma2\u001b[0m\u001b[1;33m.\u001b[0m\u001b[0mdot\u001b[0m\u001b[1;33m(\u001b[0m\u001b[0mW3\u001b[0m\u001b[1;33m)\u001b[0m \u001b[1;33m+\u001b[0m \u001b[0mb3\u001b[0m\u001b[1;33m\u001b[0m\u001b[1;33m\u001b[0m\u001b[0m\n\u001b[0m\u001b[0;32m     18\u001b[0m     \u001b[0mprint\u001b[0m\u001b[1;33m(\u001b[0m\u001b[0mnp\u001b[0m\u001b[1;33m.\u001b[0m\u001b[0mshape\u001b[0m\u001b[1;33m(\u001b[0m\u001b[0mz3\u001b[0m\u001b[1;33m)\u001b[0m\u001b[1;33m)\u001b[0m\u001b[1;33m\u001b[0m\u001b[1;33m\u001b[0m\u001b[0m\n\u001b[0;32m     19\u001b[0m     \u001b[0ma3\u001b[0m \u001b[1;33m=\u001b[0m \u001b[0msigmoid\u001b[0m\u001b[1;33m(\u001b[0m\u001b[0mz3\u001b[0m\u001b[1;33m)\u001b[0m\u001b[1;33m\u001b[0m\u001b[1;33m\u001b[0m\u001b[0m\n",
      "\u001b[1;31mValueError\u001b[0m: operands could not be broadcast together with shapes (200,1) (199,1) "
     ]
    }
   ],
   "source": [
    "m = len(y)\n",
    "#J_history = [cost_function_R(model,a2,y,0.1)]\n",
    "model['W1'], model['b1'] = W1, b1\n",
    "model['W2'], model['b2'] = W2, b2\n",
    "model['W3'], model['b2'] = W3, b3\n",
    "J_history=[]\n",
    "iteration=1000\n",
    "L=0\n",
    "learning_rate=0.1\n",
    "for i in range(iteration):\n",
    "    # forward propogation\n",
    "    z1 = X.dot(W1) + b1\n",
    "    a1 = sigmoid(z1)\n",
    "    z2 = a1.dot(W2) + b2\n",
    "    a2 = sigmoid(z2)\n",
    "    \n",
    "    z3 = a2.dot(W3) + b3\n",
    "    print(np.shape(z3))\n",
    "    a3 = sigmoid(z3)     \n",
    "    \n",
    "    # back propogation   \n",
    "    da3 = a3-y # from cost function\n",
    "    dz3 = da3*(act_der(a3))\n",
    "    dW3 = a2.T.dot(dz3)\n",
    "    db3 = np.sum(dz3,axis=0,keepdims=True)\n",
    "    da2 = dz3.dot(W3) \n",
    "    dz2 = da2*(act_der(a2))\n",
    "    print(np.shape(dz2))\n",
    "    print(np.shape(a1))\n",
    "    dW2 = a1.T.dot(dz2)\n",
    "    db2 = np.sum(dz2,axis=0,keepdims=True)\n",
    "    da1 = dz2.dot(W2.T)\n",
    "    dz1 = da1*(act_der(a1))\n",
    "    dW1 =X.T.dot(dz1)\n",
    "    db1 = np.sum(dz1,axis=0,keepdims=True)\n",
    "    #parameter update\n",
    "    W1 = W1 - learning_rate/m * (dW1 + L*W1)\n",
    "    W2 = W2 - learning_rate/m * (dW2 + L*W2)\n",
    "    W3 = W3 - learning_rate/m * (dW3 + L*W3)\n",
    "    print(np.shape(b3))\n",
    "    print(np.shape(db3))\n",
    "    b1 = b1 - learning_rate/m * db1\n",
    "    b2 = b2 - learning_rate/m * db2\n",
    "    b3 = b3 - learning_rate/m * db3\n",
    "    J_history.append(cost_function_R(a3,y))\n"
   ]
  },
  {
   "cell_type": "code",
   "execution_count": 101,
   "metadata": {},
   "outputs": [
    {
     "data": {
      "text/plain": [
       "array([[1.],\n",
       "       [1.],\n",
       "       [1.],\n",
       "       [1.]])"
      ]
     },
     "execution_count": 101,
     "metadata": {},
     "output_type": "execute_result"
    }
   ],
   "source": [
    "import numpy as np\n",
    "A = np.eye(4)\n",
    "A\n",
    "np.sum(A, axis=1, keepdims=True)"
   ]
  },
  {
   "cell_type": "code",
   "execution_count": null,
   "metadata": {},
   "outputs": [],
   "source": []
  },
  {
   "cell_type": "code",
   "execution_count": null,
   "metadata": {},
   "outputs": [],
   "source": []
  }
 ],
 "metadata": {
  "kernelspec": {
   "display_name": "Python 3",
   "language": "python",
   "name": "python3"
  },
  "language_info": {
   "codemirror_mode": {
    "name": "ipython",
    "version": 3
   },
   "file_extension": ".py",
   "mimetype": "text/x-python",
   "name": "python",
   "nbconvert_exporter": "python",
   "pygments_lexer": "ipython3",
   "version": "3.8.5"
  }
 },
 "nbformat": 4,
 "nbformat_minor": 4
}
