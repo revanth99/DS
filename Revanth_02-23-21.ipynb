{
 "cells": [
  {
   "cell_type": "code",
   "execution_count": 60,
   "metadata": {},
   "outputs": [
    {
     "data": {
      "text/plain": [
       "[(4, 'e'), (3, 'd'), (3, 'c'), (2, 'b'), (2, 'a')]"
      ]
     },
     "execution_count": 60,
     "metadata": {},
     "output_type": "execute_result"
    }
   ],
   "source": [
    "# exercise 12.1\n",
    "def most_frequent(string):\n",
    "    d = dict()\n",
    "    for k in string:\n",
    "        if k not in d:\n",
    "            d[k] = 1\n",
    "        else:\n",
    "            d[k] += 1\n",
    "\n",
    "        t = []\n",
    "        for x, q in d.items():\n",
    "            t.append((q, x))\n",
    "\n",
    "        t.sort(reverse=True)\n",
    "\n",
    "    return t\n",
    "\n",
    "most_frequent('aabbccceeeeddd')"
   ]
  },
  {
   "cell_type": "code",
   "execution_count": null,
   "metadata": {},
   "outputs": [],
   "source": []
  },
  {
   "cell_type": "code",
   "execution_count": 55,
   "metadata": {},
   "outputs": [],
   "source": [
    "# exercise 12.2\n",
    "def anagrams():\n",
    "    d = {}\n",
    "    fin = open('letters.txt')\n",
    "    for l in fin:\n",
    "        word = l.strip().lower()\n",
    "        t = list(word)\n",
    "        t.sort()\n",
    "        t = ''.join(t)\n",
    "\n",
    "        if t not in d:\n",
    "            d[t] = [word]\n",
    "        else:\n",
    "            d[t].append(word)\n",
    "    return d\n",
    "\n",
    "def sets(d):\n",
    "    for v in d.values():\n",
    "        if len(v) > 1:\n",
    "            print(len(v), v)\n",
    "            \n",
    "            \n",
    "def setsInOrder(d):\n",
    "    t = []\n",
    "    for v in d.values():\n",
    "        if len(v) > 1:\n",
    "            t.append((len(v), v))\n",
    "    t.sort(reverse=True)\n",
    "    for x in t:\n",
    "        print(x)\n",
    "\n",
    "def length(d, n):\n",
    "    res = {}\n",
    "    for word, anagrams in d.items():\n",
    "        if len(word) == n:\n",
    "            res[word] = anagrams\n",
    "    return res"
   ]
  },
  {
   "cell_type": "code",
   "execution_count": 56,
   "metadata": {},
   "outputs": [
    {
     "data": {
      "text/plain": [
       "{'abehnrtv': ['revanthb', 'htnaverb', 'revnthab'],\n",
       " 'abc': ['abc', 'cba', 'bac', 'acb', 'cab']}"
      ]
     },
     "execution_count": 56,
     "metadata": {},
     "output_type": "execute_result"
    }
   ],
   "source": [
    "#1\n",
    "anagrams()"
   ]
  },
  {
   "cell_type": "code",
   "execution_count": 57,
   "metadata": {},
   "outputs": [
    {
     "name": "stdout",
     "output_type": "stream",
     "text": [
      "(5, ['abc', 'cba', 'bac', 'acb', 'cab'])\n",
      "(3, ['revanthb', 'htnaverb', 'revnthab'])\n"
     ]
    }
   ],
   "source": [
    "#2\n",
    "anagram_map = anagrams()\n",
    "setsInOrder(anagram_map)"
   ]
  },
  {
   "cell_type": "code",
   "execution_count": 58,
   "metadata": {},
   "outputs": [
    {
     "name": "stdout",
     "output_type": "stream",
     "text": [
      "(3, ['revanthb', 'htnaverb', 'revnthab'])\n"
     ]
    }
   ],
   "source": [
    "#3\n",
    "eight_letters = length(anagram_map, 8)\n",
    "setsInOrder(eight_letters)"
   ]
  },
  {
   "cell_type": "code",
   "execution_count": null,
   "metadata": {},
   "outputs": [],
   "source": []
  },
  {
   "cell_type": "code",
   "execution_count": 59,
   "metadata": {},
   "outputs": [
    {
     "name": "stdout",
     "output_type": "stream",
     "text": [
      "abc cba\n",
      "abc bac\n",
      "abc acb\n",
      "bac cab\n",
      "acb cab\n",
      "cab cba\n"
     ]
    }
   ],
   "source": [
    "# exercise 12.3\n",
    "def metathesis_pairs(d):\n",
    "    for anagrams in d.values():\n",
    "        for w1 in anagrams:\n",
    "            for w2 in anagrams:\n",
    "                if w1 < w2 and word_compare(w1, w2) == 2:\n",
    "                    print(w1, w2)\n",
    "        \n",
    "        \n",
    "def word_compare(word1, word2):\n",
    "    count = 0\n",
    "    for c1, c2 in zip(word1, word2):\n",
    "        if c1 != c2:\n",
    "            count += 1\n",
    "\n",
    "    return count\n",
    "\n",
    "sets = anagrams()\n",
    "metathesis_pairs(sets)"
   ]
  },
  {
   "cell_type": "code",
   "execution_count": null,
   "metadata": {},
   "outputs": [],
   "source": []
  },
  {
   "cell_type": "code",
   "execution_count": null,
   "metadata": {},
   "outputs": [],
   "source": []
  },
  {
   "cell_type": "code",
   "execution_count": null,
   "metadata": {},
   "outputs": [],
   "source": []
  },
  {
   "cell_type": "code",
   "execution_count": null,
   "metadata": {},
   "outputs": [],
   "source": []
  }
 ],
 "metadata": {
  "kernelspec": {
   "display_name": "Python 3",
   "language": "python",
   "name": "python3"
  },
  "language_info": {
   "codemirror_mode": {
    "name": "ipython",
    "version": 3
   },
   "file_extension": ".py",
   "mimetype": "text/x-python",
   "name": "python",
   "nbconvert_exporter": "python",
   "pygments_lexer": "ipython3",
   "version": "3.8.5"
  }
 },
 "nbformat": 4,
 "nbformat_minor": 4
}
