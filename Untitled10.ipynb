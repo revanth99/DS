{
 "cells": [
  {
   "cell_type": "code",
   "execution_count": 7,
   "metadata": {},
   "outputs": [],
   "source": [
    "import numpy as np\n",
    "import pandas as pd\n",
    "from numpy import genfromtxt\n",
    "import matplotlib.pyplot as plt"
   ]
  },
  {
   "cell_type": "code",
   "execution_count": 8,
   "metadata": {},
   "outputs": [
    {
     "name": "stdout",
     "output_type": "stream",
     "text": [
      "(200,)\n"
     ]
    }
   ],
   "source": [
    "X = genfromtxt('S21_M4DS_PRJ_04_ANN_X.csv', delimiter=',')\n",
    "y= genfromtxt('S21_M4DS_PRJ_04_ANN_y.csv', delimiter=',')\n",
    "n_input_dim, n_output_dim, = 2, 1\n",
    "n_h1_dim = 3\n",
    "W1 = np.random.randn(n_input_dim, n_h1_dim)/np.sqrt(n_input_dim)\n",
    "W3 = np.random.randn(2, 1)/np.sqrt(2)\n",
    "W2 = np.random.randn(3, 2)/np.sqrt(3)\n",
    "b1 = np.zeros((200, n_h1_dim))\n",
    "b2 = np.zeros((200, 2))\n",
    "b3 = np.zeros((200, 1))\n",
    "def sigmoid(x):\n",
    "    a = 1/(1 + np.exp(-x))\n",
    "    return a\n",
    "def act_der(x):\n",
    "    a = sigmoid(x)*(1-sigmoid(x))\n",
    "    return a\n",
    "# z1 = X.dot(W1) + b1\n",
    "# a1 = sigmoid(z1)\n",
    "# z2 = a1.dot(W2) + b2\n",
    "# a2 = sigmoid(z2)\n",
    "model = { \n",
    "'W1': W1, 'b1': b1,'a1':sigmoid,'W2': W2, 'b2': b2,'a2':sigmoid,'W3': W3, 'b3': b3,'a3':sigmoid\n",
    "}\n",
    "def cost_function_R(a3,y):\n",
    "    m = len(y)\n",
    "    cost = 1/(2*m)* np.sum(np.square(a3-y))\n",
    "    return cost\n",
    "\n",
    "print(np.shape(y))"
   ]
  },
  {
   "cell_type": "code",
   "execution_count": 9,
   "metadata": {},
   "outputs": [
    {
     "name": "stdout",
     "output_type": "stream",
     "text": [
      "(3, 2)\n",
      "(200, 2)\n",
      "(200, 3)\n",
      "(2, 1)\n",
      "(200, 1)\n",
      "(200, 2)\n",
      "(200, 1)\n",
      "w1 (2, 3)\n",
      "w2 (3, 2)\n",
      "w3 (2, 1)\n",
      "b1 (200, 3)\n",
      "b2 (200, 2)\n",
      "b3 (200, 1)\n",
      "z1 (200, 3)\n",
      "z2 (200, 2)\n",
      "z3 (200, 1)\n",
      "da3 (200, 200)\n",
      "dz3 (200, 200)\n"
     ]
    },
    {
     "ename": "ValueError",
     "evalue": "shapes (200,2) and (200,200) not aligned: 2 (dim 1) != 200 (dim 0)",
     "output_type": "error",
     "traceback": [
      "\u001b[1;31m---------------------------------------------------------------------------\u001b[0m",
      "\u001b[1;31mValueError\u001b[0m                                Traceback (most recent call last)",
      "\u001b[1;32m<ipython-input-9-09faced6f5d9>\u001b[0m in \u001b[0;36m<module>\u001b[1;34m\u001b[0m\n\u001b[0;32m     37\u001b[0m     \u001b[0mprint\u001b[0m\u001b[1;33m(\u001b[0m\u001b[1;34m'da3'\u001b[0m\u001b[1;33m,\u001b[0m\u001b[0mnp\u001b[0m\u001b[1;33m.\u001b[0m\u001b[0mshape\u001b[0m\u001b[1;33m(\u001b[0m\u001b[0mda3\u001b[0m\u001b[1;33m)\u001b[0m\u001b[1;33m)\u001b[0m\u001b[1;33m\u001b[0m\u001b[1;33m\u001b[0m\u001b[0m\n\u001b[0;32m     38\u001b[0m     \u001b[0mprint\u001b[0m\u001b[1;33m(\u001b[0m\u001b[1;34m'dz3'\u001b[0m\u001b[1;33m,\u001b[0m\u001b[0mnp\u001b[0m\u001b[1;33m.\u001b[0m\u001b[0mshape\u001b[0m\u001b[1;33m(\u001b[0m\u001b[0mdz3\u001b[0m\u001b[1;33m)\u001b[0m\u001b[1;33m)\u001b[0m\u001b[1;33m\u001b[0m\u001b[1;33m\u001b[0m\u001b[0m\n\u001b[1;32m---> 39\u001b[1;33m     \u001b[0mdW3\u001b[0m \u001b[1;33m=\u001b[0m \u001b[0ma2\u001b[0m\u001b[1;33m.\u001b[0m\u001b[0mdot\u001b[0m\u001b[1;33m(\u001b[0m\u001b[0mdz3\u001b[0m\u001b[1;33m)\u001b[0m\u001b[1;33m\u001b[0m\u001b[1;33m\u001b[0m\u001b[0m\n\u001b[0m\u001b[0;32m     40\u001b[0m     \u001b[0mdb3\u001b[0m \u001b[1;33m=\u001b[0m \u001b[0mnp\u001b[0m\u001b[1;33m.\u001b[0m\u001b[0msum\u001b[0m\u001b[1;33m(\u001b[0m\u001b[0mdz3\u001b[0m\u001b[1;33m,\u001b[0m\u001b[0maxis\u001b[0m\u001b[1;33m=\u001b[0m\u001b[1;36m0\u001b[0m\u001b[1;33m,\u001b[0m\u001b[0mkeepdims\u001b[0m\u001b[1;33m=\u001b[0m\u001b[1;32mTrue\u001b[0m\u001b[1;33m)\u001b[0m\u001b[1;33m\u001b[0m\u001b[1;33m\u001b[0m\u001b[0m\n\u001b[0;32m     41\u001b[0m     \u001b[0mda2\u001b[0m \u001b[1;33m=\u001b[0m \u001b[0mdz3\u001b[0m\u001b[1;33m.\u001b[0m\u001b[0mdot\u001b[0m\u001b[1;33m(\u001b[0m\u001b[0mW3\u001b[0m\u001b[1;33m)\u001b[0m\u001b[1;33m\u001b[0m\u001b[1;33m\u001b[0m\u001b[0m\n",
      "\u001b[1;31mValueError\u001b[0m: shapes (200,2) and (200,200) not aligned: 2 (dim 1) != 200 (dim 0)"
     ]
    }
   ],
   "source": [
    "m = len(y)\n",
    "model['W1'], model['b1'] = W1, b1\n",
    "model['W2'], model['b2'] = W2, b2\n",
    "model['W3'], model['b2'] = W3, b3\n",
    "J_history=[]\n",
    "iteration=1000\n",
    "L=0\n",
    "learning_rate=0.1\n",
    "for i in range(iteration):\n",
    "    # forward propogation\n",
    "    z1 = X.dot(W1) + b1\n",
    "    a1 = sigmoid(z1)\n",
    "    print(np.shape(W2))\n",
    "    print(np.shape(b2))\n",
    "    print(np.shape(a1))\n",
    "    z2 = a1.dot(W2) + b2\n",
    "    a2 = sigmoid(z2)\n",
    "    print(np.shape(W3))\n",
    "    print(np.shape(b3))\n",
    "    print(np.shape(a2))\n",
    "    z3 = a2.dot(W3) + b3\n",
    "    print(np.shape(z3))\n",
    "    a3 = sigmoid(z3)     \n",
    "    print('w1',np.shape(W1))\n",
    "    print('w2',np.shape(W2))\n",
    "    print('w3',np.shape(W3))\n",
    "    print('b1',np.shape(b1))\n",
    "    print('b2',np.shape(b2))\n",
    "    print('b3',np.shape(b3))\n",
    "    print('z1',np.shape(z1))\n",
    "    print('z2',np.shape(z2))\n",
    "    print('z3',np.shape(z3))\n",
    "    \n",
    "    # back propogation   \n",
    "    da3 = a3-y # from cost function\n",
    "    dz3 = da3*(act_der(a3))\n",
    "    print('da3',np.shape(da3))\n",
    "    print('dz3',np.shape(dz3))\n",
    "    dW3 = a2.dot(dz3)\n",
    "    db3 = np.sum(dz3,axis=0,keepdims=True)\n",
    "    da2 = dz3.dot(W3) \n",
    "    dz2 = da2*(act_der(a2))\n",
    "    print(np.shape(dz2))\n",
    "    print(np.shape(a1))\n",
    "    dW2 = a1.T.dot(dz2)\n",
    "    db2 = np.sum(dz2,axis=0,keepdims=True)\n",
    "    da1 = dz2.dot(W2.T)\n",
    "    dz1 = da1*(act_der(a1))\n",
    "    dW1 =X.T.dot(dz1)\n",
    "    db1 = np.sum(dz1,axis=0,keepdims=True)\n",
    "    #parameter update\n",
    "    W1 = W1 - learning_rate/m * (dW1 + L*W1)\n",
    "    W2 = W2 - learning_rate/m * (dW2 + L*W2)\n",
    "    W3 = W3 - learning_rate/m * (dW3 + L*W3)\n",
    "    print(np.shape(b3))\n",
    "    print(np.shape(db3))\n",
    "    b1 = b1 - learning_rate/m * db1\n",
    "    b2 = b2 - learning_rate/m * db2\n",
    "    b3 = b3 - learning_rate/m * db3\n",
    "    J_history.append(cost_function_R(a3,y))\n"
   ]
  },
  {
   "cell_type": "code",
   "execution_count": null,
   "metadata": {},
   "outputs": [],
   "source": []
  }
 ],
 "metadata": {
  "kernelspec": {
   "display_name": "Python 3",
   "language": "python",
   "name": "python3"
  },
  "language_info": {
   "codemirror_mode": {
    "name": "ipython",
    "version": 3
   },
   "file_extension": ".py",
   "mimetype": "text/x-python",
   "name": "python",
   "nbconvert_exporter": "python",
   "pygments_lexer": "ipython3",
   "version": "3.8.5"
  }
 },
 "nbformat": 4,
 "nbformat_minor": 4
}
