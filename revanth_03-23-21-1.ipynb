{
 "cells": [
  {
   "cell_type": "code",
   "execution_count": 71,
   "metadata": {},
   "outputs": [],
   "source": [
    "import copy\n",
    "class point:\n",
    "    \"\"\"Represents a point in 2-D space.\"\"\"\n",
    "    def print_point(self,a):\n",
    "        print(a.x,a.y)\n",
    "    \n",
    "class Rectangle:\n",
    "    \"\"\"Represents a rectangle.\n",
    "    attributes: width, height, corner.\n",
    "    \"\"\"\n",
    "\n",
    "class Circle:\n",
    "    \"\"\"Represents a Circle\"\"\"\n",
    "    \n",
    "def point_in_circle(point,circle):\n",
    "    distance=point_distance(circle.center,point)\n",
    "    return distance <= circle.radius\n",
    "def rect_in_circle(rect, circle):\n",
    "    p = rect.corner\n",
    "    p.x = p.x + rect.width\n",
    "    if not point_in_circle(p, circle):\n",
    "        return False\n",
    "    \n",
    "    p.y = p.y - rect.height\n",
    "    if not point_in_circle(p, circle):\n",
    "        return False\n",
    "\n",
    "    p.x = p.x - rect.width\n",
    "    if not point_in_circle(p, circle):\n",
    "        return False\n",
    "\n",
    "    return True\n",
    "def rect_circle_overlap(rect, circle):\n",
    "    p = copy.copy(rect.corner)\n",
    "    if point_in_circle(p, circle):\n",
    "        return True\n",
    "\n",
    "    p.x += rect.width\n",
    "    if point_in_circle(p, circle):\n",
    "        return True\n",
    "\n",
    "    p.y -= rect.height\n",
    "    if point_in_circle(p, circle):\n",
    "        return True\n",
    "\n",
    "    p.x -= rect.width\n",
    "    if point_in_circle(p, circle):\n",
    "        return True\n",
    "\n",
    "    return False\n",
    "def point_distance(a1,a2):\n",
    "    return ((a1.x-a2.x)**2+(a1.y-a2.y)**2)**0.5\n",
    "    \n",
    "\n"
   ]
  },
  {
   "cell_type": "code",
   "execution_count": 72,
   "metadata": {},
   "outputs": [
    {
     "name": "stdout",
     "output_type": "stream",
     "text": [
      "The given Point lies in or on the boundary of the circle: False\n",
      "Rectangle is inside the circle: False\n",
      "Rectangle overlaps circle: False\n"
     ]
    }
   ],
   "source": [
    "rect= Rectangle()\n",
    "rect.width = 100\n",
    "rect.height = 200\n",
    "rect.corner = point()\n",
    "rect.corner.x = 50\n",
    "rect.corner.y = 50\n",
    "circle=Circle()\n",
    "circle.center=point()\n",
    "circle.center.x=150\n",
    "circle.center.y=100\n",
    "circle.radius=75\n",
    "print('The given Point lies in or on the boundary of the circle:',point_in_circle(rect.corner, circle))\n",
    "print('Rectangle is inside the circle:',rect_in_circle(rect, circle))\n",
    "print('Rectangle overlaps circle:',rect_circle_overlap(rect, circle))"
   ]
  },
  {
   "cell_type": "code",
   "execution_count": null,
   "metadata": {},
   "outputs": [],
   "source": []
  },
  {
   "cell_type": "code",
   "execution_count": null,
   "metadata": {},
   "outputs": [],
   "source": []
  }
 ],
 "metadata": {
  "kernelspec": {
   "display_name": "Python 3",
   "language": "python",
   "name": "python3"
  },
  "language_info": {
   "codemirror_mode": {
    "name": "ipython",
    "version": 3
   },
   "file_extension": ".py",
   "mimetype": "text/x-python",
   "name": "python",
   "nbconvert_exporter": "python",
   "pygments_lexer": "ipython3",
   "version": "3.8.5"
  }
 },
 "nbformat": 4,
 "nbformat_minor": 4
}
