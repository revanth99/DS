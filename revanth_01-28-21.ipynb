{
 "cells": [
  {
   "cell_type": "code",
   "execution_count": 48,
   "metadata": {},
   "outputs": [],
   "source": [
    "# Exercise\n",
    "# 3.1\n",
    "def right_justify(s):\n",
    "    a= len(s)\n",
    "    print (' '*(70-a)+s)\n",
    "    b=len(' '*(70-a)+s)\n",
    "    print('length of above string is', b)"
   ]
  },
  {
   "cell_type": "code",
   "execution_count": 138,
   "metadata": {},
   "outputs": [
    {
     "name": "stdout",
     "output_type": "stream",
     "text": [
      "                                                                 monty\n",
      "length of above string is 70\n"
     ]
    }
   ],
   "source": [
    "right_justify('monty')"
   ]
  },
  {
   "cell_type": "code",
   "execution_count": 141,
   "metadata": {},
   "outputs": [
    {
     "name": "stdout",
     "output_type": "stream",
     "text": [
      "spam\n",
      "spam\n",
      "16\n",
      "16\n",
      "spam is passed as a argument\n",
      "spam is passed as a argument\n",
      "this is do four fumction\n",
      "this is do four fumction\n",
      "this is do four fumction\n",
      "this is do four fumction\n"
     ]
    }
   ],
   "source": [
    "# 3.2\n",
    "def do_twice(f):\n",
    "    f()\n",
    "    f()\n",
    "def print_spam():\n",
    "    print('spam')\n",
    "    \n",
    "do_twice(print_spam)\n",
    "\n",
    "def do_twice1(fun,arg):\n",
    "    fun(arg)\n",
    "    fun(arg)\n",
    "def print_mul(b):\n",
    "    a=b*b\n",
    "    print(a)\n",
    "    \n",
    "\n",
    "## This function assigns the argument to a parameter named bruce. When the function is\n",
    "## called, it prints the value of the parameter (whatever it is) twice.\n",
    "do_twice1(print_mul,4)\n",
    "    \n",
    "def print_spam(b):\n",
    "    print(b)\n",
    "    \n",
    "do_twice1(print_spam,'spam is passed as a argument')\n",
    "\n",
    "def do_four(fun,arg):\n",
    "    do_twice1(fun,arg)\n",
    "    do_twice1(fun,arg)\n",
    "\n",
    "do_four(print_spam,'this is do four fumction')"
   ]
  },
  {
   "cell_type": "code",
   "execution_count": 135,
   "metadata": {},
   "outputs": [
    {
     "name": "stdout",
     "output_type": "stream",
     "text": [
      "+ - - - -  + - - - -  +\n",
      "|          |          |\n",
      "|          |          |\n",
      "|          |          |\n",
      "|          |          |\n",
      "+ - - - -  + - - - -  +\n",
      "|          |          |\n",
      "|          |          |\n",
      "|          |          |\n",
      "|          |          |\n",
      "+ - - - -  + - - - -  +\n",
      "+ - - - -  + - - - -  + - - - -  + - - - -  +\n",
      "|          |          |          |          |\n",
      "|          |          |          |          |\n",
      "|          |          |          |          |\n",
      "|          |          |          |          |\n",
      "+ - - - -  + - - - -  + - - - -  + - - - -  +\n",
      "|          |          |          |          |\n",
      "|          |          |          |          |\n",
      "|          |          |          |          |\n",
      "|          |          |          |          |\n",
      "+ - - - -  + - - - -  + - - - -  + - - - -  +\n",
      "|          |          |          |          |\n",
      "|          |          |          |          |\n",
      "|          |          |          |          |\n",
      "|          |          |          |          |\n",
      "+ - - - -  + - - - -  + - - - -  + - - - -  +\n",
      "|          |          |          |          |\n",
      "|          |          |          |          |\n",
      "|          |          |          |          |\n",
      "|          |          |          |          |\n",
      "+ - - - -  + - - - -  + - - - -  + - - - -  +\n"
     ]
    }
   ],
   "source": [
    "# 3.3\n",
    "# 1 & 2\n",
    "def print_column():\n",
    "    print(\"+\", \"- \" * 4, \"+\", \"- \" * 4, \"+\")\n",
    "    \n",
    "    \n",
    "def print_row():\n",
    "    print('|', end=' ')\n",
    "    print(' '*8, end=' ')\n",
    "    print('|', end=' ')\n",
    "    print(' '*8, end=' ')\n",
    "    print('|')\n",
    "def do_twice(f):\n",
    "    f()\n",
    "    f()\n",
    "\n",
    "def do_four(f):\n",
    "    do_twice(f)\n",
    "    do_twice(f)\n",
    "\n",
    "def print_rows():\n",
    "    do_four(print_row)\n",
    "\n",
    "def do_block():\n",
    "    print_column()\n",
    "    print_rows()\n",
    "\n",
    "def print_block():\n",
    "    do_twice(do_block)\n",
    "    print_column()\n",
    "\n",
    "print_block()\n",
    "\n",
    "def print_column():\n",
    "    print(\"+\", \"- \" * 4, \"+\", \"- \" * 4, \"+\",\"- \" * 4, \"+\", \"- \" * 4, \"+\")\n",
    "def print_row():\n",
    "    print('|', end=' ')\n",
    "    print(' '*8, end=' ')\n",
    "    print('|', end=' ')\n",
    "    print(' '*8, end=' ')\n",
    "    print('|', end=' ')\n",
    "    print(' '*8, end=' ')\n",
    "    print('|', end=' ')\n",
    "    print(' '*8, end=' ')\n",
    "    print('|')\n",
    "    \n",
    "def print_block4():\n",
    "    do_four(do_block)\n",
    "    print_column()\n",
    "    \n",
    "print_block4()"
   ]
  },
  {
   "cell_type": "code",
   "execution_count": null,
   "metadata": {},
   "outputs": [],
   "source": []
  },
  {
   "cell_type": "code",
   "execution_count": 153,
   "metadata": {},
   "outputs": [
    {
     "name": "stdout",
     "output_type": "stream",
     "text": [
      "yes, triangele can be formed\n"
     ]
    }
   ],
   "source": [
    "# 5.3\n",
    "# 1 \n",
    "\n",
    "def is_triangle(a,b,c):\n",
    "    if (a<=b+c ):\n",
    "        print('yes, triangele can be formed')\n",
    "    elif (b<=c+a ):\n",
    "        print('yes, triangele can be formed')\n",
    "    elif (c<=b+a ):\n",
    "        print('yes, triangele can be formed')\n",
    "    else :\n",
    "        print('no, Trianle cannot be formed with these variables')\n",
    "is_triangle(9,12,15)"
   ]
  },
  {
   "cell_type": "code",
   "execution_count": 150,
   "metadata": {},
   "outputs": [
    {
     "name": "stdout",
     "output_type": "stream",
     "text": [
      "100\n",
      "50\n",
      "50\n",
      "yes, triangele can be formed\n"
     ]
    }
   ],
   "source": [
    "#2\n",
    "is_triangle(input(),input(),input())"
   ]
  },
  {
   "cell_type": "code",
   "execution_count": 156,
   "metadata": {},
   "outputs": [
    {
     "name": "stdout",
     "output_type": "stream",
     "text": [
      "6\n"
     ]
    }
   ],
   "source": [
    "# 5.4\n",
    "#1\n",
    "def recurse(n, s):\n",
    "    if n == 0:\n",
    "        print(s)\n",
    "    else:\n",
    "        recurse(n-1, n+s)\n",
    "recurse(3, 0)\n",
    "\n"
   ]
  },
  {
   "cell_type": "code",
   "execution_count": 155,
   "metadata": {},
   "outputs": [
    {
     "ename": "RecursionError",
     "evalue": "maximum recursion depth exceeded in comparison",
     "output_type": "error",
     "traceback": [
      "\u001b[1;31m---------------------------------------------------------------------------\u001b[0m",
      "\u001b[1;31mRecursionError\u001b[0m                            Traceback (most recent call last)",
      "\u001b[1;32m<ipython-input-155-f3859ffb8f1a>\u001b[0m in \u001b[0;36m<module>\u001b[1;34m\u001b[0m\n\u001b[0;32m      5\u001b[0m     \u001b[1;32melse\u001b[0m\u001b[1;33m:\u001b[0m\u001b[1;33m\u001b[0m\u001b[1;33m\u001b[0m\u001b[0m\n\u001b[0;32m      6\u001b[0m         \u001b[0mrecurse\u001b[0m\u001b[1;33m(\u001b[0m\u001b[0mn\u001b[0m\u001b[1;33m-\u001b[0m\u001b[1;36m1\u001b[0m\u001b[1;33m,\u001b[0m \u001b[0mn\u001b[0m\u001b[1;33m+\u001b[0m\u001b[0ms\u001b[0m\u001b[1;33m)\u001b[0m\u001b[1;33m\u001b[0m\u001b[1;33m\u001b[0m\u001b[0m\n\u001b[1;32m----> 7\u001b[1;33m \u001b[0mrecurse\u001b[0m\u001b[1;33m(\u001b[0m\u001b[1;33m-\u001b[0m\u001b[1;36m1\u001b[0m\u001b[1;33m,\u001b[0m \u001b[1;36m0\u001b[0m\u001b[1;33m)\u001b[0m\u001b[1;33m\u001b[0m\u001b[1;33m\u001b[0m\u001b[0m\n\u001b[0m\u001b[0;32m      8\u001b[0m \"\"\"1) if we use this recurse(-1,0) then loop will continue until maximum and gets error\n\u001b[0;32m      9\u001b[0m 2) we have to use recursive function where we have to call the same function in the function itself \"\"\"\n",
      "\u001b[1;32m<ipython-input-155-f3859ffb8f1a>\u001b[0m in \u001b[0;36mrecurse\u001b[1;34m(n, s)\u001b[0m\n\u001b[0;32m      4\u001b[0m         \u001b[0mprint\u001b[0m\u001b[1;33m(\u001b[0m\u001b[0ms\u001b[0m\u001b[1;33m)\u001b[0m\u001b[1;33m\u001b[0m\u001b[1;33m\u001b[0m\u001b[0m\n\u001b[0;32m      5\u001b[0m     \u001b[1;32melse\u001b[0m\u001b[1;33m:\u001b[0m\u001b[1;33m\u001b[0m\u001b[1;33m\u001b[0m\u001b[0m\n\u001b[1;32m----> 6\u001b[1;33m         \u001b[0mrecurse\u001b[0m\u001b[1;33m(\u001b[0m\u001b[0mn\u001b[0m\u001b[1;33m-\u001b[0m\u001b[1;36m1\u001b[0m\u001b[1;33m,\u001b[0m \u001b[0mn\u001b[0m\u001b[1;33m+\u001b[0m\u001b[0ms\u001b[0m\u001b[1;33m)\u001b[0m\u001b[1;33m\u001b[0m\u001b[1;33m\u001b[0m\u001b[0m\n\u001b[0m\u001b[0;32m      7\u001b[0m \u001b[0mrecurse\u001b[0m\u001b[1;33m(\u001b[0m\u001b[1;33m-\u001b[0m\u001b[1;36m1\u001b[0m\u001b[1;33m,\u001b[0m \u001b[1;36m0\u001b[0m\u001b[1;33m)\u001b[0m\u001b[1;33m\u001b[0m\u001b[1;33m\u001b[0m\u001b[0m\n\u001b[0;32m      8\u001b[0m \"\"\"1) if we use this recurse(-1,0) then loop will continue until maximum and gets error\n",
      "... last 1 frames repeated, from the frame below ...\n",
      "\u001b[1;32m<ipython-input-155-f3859ffb8f1a>\u001b[0m in \u001b[0;36mrecurse\u001b[1;34m(n, s)\u001b[0m\n\u001b[0;32m      4\u001b[0m         \u001b[0mprint\u001b[0m\u001b[1;33m(\u001b[0m\u001b[0ms\u001b[0m\u001b[1;33m)\u001b[0m\u001b[1;33m\u001b[0m\u001b[1;33m\u001b[0m\u001b[0m\n\u001b[0;32m      5\u001b[0m     \u001b[1;32melse\u001b[0m\u001b[1;33m:\u001b[0m\u001b[1;33m\u001b[0m\u001b[1;33m\u001b[0m\u001b[0m\n\u001b[1;32m----> 6\u001b[1;33m         \u001b[0mrecurse\u001b[0m\u001b[1;33m(\u001b[0m\u001b[0mn\u001b[0m\u001b[1;33m-\u001b[0m\u001b[1;36m1\u001b[0m\u001b[1;33m,\u001b[0m \u001b[0mn\u001b[0m\u001b[1;33m+\u001b[0m\u001b[0ms\u001b[0m\u001b[1;33m)\u001b[0m\u001b[1;33m\u001b[0m\u001b[1;33m\u001b[0m\u001b[0m\n\u001b[0m\u001b[0;32m      7\u001b[0m \u001b[0mrecurse\u001b[0m\u001b[1;33m(\u001b[0m\u001b[1;33m-\u001b[0m\u001b[1;36m1\u001b[0m\u001b[1;33m,\u001b[0m \u001b[1;36m0\u001b[0m\u001b[1;33m)\u001b[0m\u001b[1;33m\u001b[0m\u001b[1;33m\u001b[0m\u001b[0m\n\u001b[0;32m      8\u001b[0m \"\"\"1) if we use this recurse(-1,0) then loop will continue until maximum and gets error\n",
      "\u001b[1;31mRecursionError\u001b[0m: maximum recursion depth exceeded in comparison"
     ]
    }
   ],
   "source": [
    "#2\n",
    "def recurse(n, s):\n",
    "    if n == 0:\n",
    "        print(s)\n",
    "    else:\n",
    "        recurse(n-1, n+s)\n",
    "recurse(-1, 0)\n",
    "\"\"\"1) if we use this recurse(-1,0) then loop will continue until maximum and gets error\n",
    "2) we have to use recursive function where we have to call the same function in the function itself \"\"\"\n",
    "\n"
   ]
  },
  {
   "cell_type": "code",
   "execution_count": null,
   "metadata": {},
   "outputs": [],
   "source": []
  }
 ],
 "metadata": {
  "kernelspec": {
   "display_name": "Python 3",
   "language": "python",
   "name": "python3"
  },
  "language_info": {
   "codemirror_mode": {
    "name": "ipython",
    "version": 3
   },
   "file_extension": ".py",
   "mimetype": "text/x-python",
   "name": "python",
   "nbconvert_exporter": "python",
   "pygments_lexer": "ipython3",
   "version": "3.8.5"
  }
 },
 "nbformat": 4,
 "nbformat_minor": 4
}
