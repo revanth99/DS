{
 "cells": [
  {
   "cell_type": "code",
   "execution_count": 1,
   "metadata": {},
   "outputs": [],
   "source": [
    "import numpy as np\n",
    "import pandas as pd\n",
    "import matplotlib.pyplot as plt"
   ]
  },
  {
   "cell_type": "code",
   "execution_count": 2,
   "metadata": {},
   "outputs": [],
   "source": [
    "X_df=pd.read_csv('S21_M4DS_PRJ_04_ANN_X.csv',header=None)\n",
    "Y_df=pd.read_csv('S21_M4DS_PRJ_04_ANN_y.csv',header=None)\n",
    "X_df=X_df.dropna(axis=1)\n",
    "Y_df=Y_df.dropna(axis=1)"
   ]
  },
  {
   "cell_type": "code",
   "execution_count": 51,
   "metadata": {},
   "outputs": [],
   "source": [
    "Y=Y.T"
   ]
  },
  {
   "cell_type": "code",
   "execution_count": null,
   "metadata": {},
   "outputs": [],
   "source": []
  },
  {
   "cell_type": "code",
   "execution_count": null,
   "metadata": {},
   "outputs": [],
   "source": []
  },
  {
   "cell_type": "code",
   "execution_count": null,
   "metadata": {},
   "outputs": [],
   "source": []
  },
  {
   "cell_type": "code",
   "execution_count": 52,
   "metadata": {},
   "outputs": [],
   "source": [
    "n_input_dim, n_output_dim, = 2, 2\n",
    "n_h1_dim = 3\n",
    "L=0"
   ]
  },
  {
   "cell_type": "code",
   "execution_count": 53,
   "metadata": {},
   "outputs": [],
   "source": [
    "def sigmoid(X):\n",
    "    return 1/(1 + np.exp(-X))"
   ]
  },
  {
   "cell_type": "code",
   "execution_count": 54,
   "metadata": {},
   "outputs": [],
   "source": [
    "def sigmoid_derivative(X):\n",
    "    return sigmoid(X)*(1-sigmoid(X))"
   ]
  },
  {
   "cell_type": "code",
   "execution_count": 55,
   "metadata": {},
   "outputs": [],
   "source": [
    "W1 = np.random.randn(n_input_dim, n_h1_dim)/np.sqrt(n_input_dim)\n",
    "W2 = np.random.randn(n_h1_dim, n_output_dim)/np.sqrt(n_h1_dim)\n",
    "b1 = np.zeros((1, n_h1_dim))\n",
    "b2 = np.zeros((1, n_output_dim))\n",
    "model = { 'W1': W1, 'b1': b1,'a1':'sigmoid', 'W2': W2,'b2': b2,'a2':'sigmoid'}\n"
   ]
  },
  {
   "cell_type": "code",
   "execution_count": 56,
   "metadata": {},
   "outputs": [],
   "source": [
    "def forward_propagation(model, X):\n",
    "    W1, b1 = model['W1'], model['b1']\n",
    "    W2, b2 = model['W2'], model['b2']\n",
    "    m = len(Y)\n",
    "    J_history = [cost_function_R(model,X,Y,L)]  \n",
    "    lr, rp, n_iter= 1, 0.0, 20000\n",
    "    for i in range(n_iter):\n",
    "        z1 = X.dot(W1) + b1\n",
    "        a1 = sigmoid(z1)\n",
    "        z2 = a1.dot(W2) + b2\n",
    "        a2 = sigmoid(z2)\n",
    "#model = { 'W1': W1, 'b1': b1,'a1':'sigmoid', 'W2': W2,'b2': b2,'a2':'sigmoid'}  \n",
    "def cost_function_R(model,X,Y,L):\n",
    "    z1 = X.dot(W1) + b1\n",
    "    a1 = sigmoid(z1)\n",
    "    z2 = a1.dot(W2) + b2\n",
    "    h = sigmoid(z2)\n",
    "    m = len(Y)\n",
    "    cost = 1/(2*m)* np.sum(np.square(h-Y))\n",
    "    return cost"
   ]
  },
  {
   "cell_type": "code",
   "execution_count": 57,
   "metadata": {},
   "outputs": [],
   "source": [
    "def back_propagation(X,Y,model,z1,a1,z2,a2,lr):\n",
    "    lr, rp, n_iter= 1, 0.0, 20000\n",
    "    for i in range(n_iter):\n",
    "        da2 = a2-y # from cost function\n",
    "        dz2 = da2*sigmoid_derivative(a2)\n",
    "        dW2 = a1.T.dot(dz2)\n",
    "        db2 = np.sum(dz2,axis=0,keepdims=True)\n",
    "        da1 = dz2.dot(W2.T)\n",
    "        dz1 = da1*sigmoid_derivative(a1)\n",
    "        dW1 = X.T.dot(dz1)\n",
    "        db1 = np.sum(dz1,axis=0,keepdims=True)\n",
    "        #update parameters\n",
    "        W1 = W1 -learning_rate/m * (dW1 + L*W1)\n",
    "        W2 = W2 -learning_rate/m * (dW2 + L*W2)\n",
    "        b1 = b1 -learning_rate/m * db1\n",
    "        b2 = b2 -learning_rate/m * db2\n",
    "        model['W1'], model['b1'] = W1, b1\n",
    "        model['W2'], model['b2'] = W2, b2\n",
    "        J_history.append(cost_function_R(model,X,y,L))\n",
    "        print(model)\n",
    "        model, J_history= gradient_descent0_R(model,X,y,learning_rate=lr,L=rp,iteration=n_iter)\n",
    "        print(model)\n",
    "        print(J_history)"
   ]
  },
  {
   "cell_type": "code",
   "execution_count": 58,
   "metadata": {},
   "outputs": [
    {
     "ename": "NameError",
     "evalue": "name 'z1' is not defined",
     "output_type": "error",
     "traceback": [
      "\u001b[1;31m---------------------------------------------------------------------------\u001b[0m",
      "\u001b[1;31mNameError\u001b[0m                                 Traceback (most recent call last)",
      "\u001b[1;32m<ipython-input-58-c8bb7cacc07b>\u001b[0m in \u001b[0;36m<module>\u001b[1;34m\u001b[0m\n\u001b[0;32m      1\u001b[0m \u001b[0mforward_propagation\u001b[0m\u001b[1;33m(\u001b[0m\u001b[0mmodel\u001b[0m\u001b[1;33m,\u001b[0m \u001b[0mX\u001b[0m\u001b[1;33m)\u001b[0m\u001b[1;33m\u001b[0m\u001b[1;33m\u001b[0m\u001b[0m\n\u001b[1;32m----> 2\u001b[1;33m \u001b[0mback_propagation\u001b[0m\u001b[1;33m(\u001b[0m\u001b[0mX\u001b[0m\u001b[1;33m,\u001b[0m\u001b[0mY\u001b[0m\u001b[1;33m,\u001b[0m\u001b[0mmodel\u001b[0m\u001b[1;33m,\u001b[0m\u001b[0mz1\u001b[0m\u001b[1;33m,\u001b[0m\u001b[0ma1\u001b[0m\u001b[1;33m,\u001b[0m\u001b[0mz2\u001b[0m\u001b[1;33m,\u001b[0m\u001b[0ma2\u001b[0m\u001b[1;33m,\u001b[0m\u001b[0mlr\u001b[0m\u001b[1;33m)\u001b[0m\u001b[1;33m\u001b[0m\u001b[1;33m\u001b[0m\u001b[0m\n\u001b[0m",
      "\u001b[1;31mNameError\u001b[0m: name 'z1' is not defined"
     ]
    }
   ],
   "source": [
    "\n",
    "forward_propagation(model, X)\n",
    "back_propagation(X,Y,model,z1,a1,z2,a2,lr)"
   ]
  },
  {
   "cell_type": "code",
   "execution_count": null,
   "metadata": {},
   "outputs": [],
   "source": []
  }
 ],
 "metadata": {
  "kernelspec": {
   "display_name": "Python 3",
   "language": "python",
   "name": "python3"
  },
  "language_info": {
   "codemirror_mode": {
    "name": "ipython",
    "version": 3
   },
   "file_extension": ".py",
   "mimetype": "text/x-python",
   "name": "python",
   "nbconvert_exporter": "python",
   "pygments_lexer": "ipython3",
   "version": "3.8.5"
  }
 },
 "nbformat": 4,
 "nbformat_minor": 5
}
