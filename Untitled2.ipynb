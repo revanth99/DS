{
 "cells": [
  {
   "cell_type": "code",
   "execution_count": 2,
   "metadata": {},
   "outputs": [],
   "source": [
    "import numpy as np\n",
    "import pandas as pd\n",
    "from numpy import genfromtxt\n",
    "import matplotlib.pyplot as plt"
   ]
  },
  {
   "cell_type": "code",
   "execution_count": 3,
   "metadata": {},
   "outputs": [],
   "source": [
    "X = genfromtxt('S21_M4DS_PRJ_04_ANN_X.csv', delimiter=',')\n",
    "y= genfromtxt('S21_M4DS_PRJ_04_ANN_y.csv', delimiter=',')\n",
    "n_input_dim, n_output_dim, = 2, 2\n",
    "n_h1_dim = 3\n",
    "W1 = np.random.randn(n_input_dim, n_h1_dim)/np.sqrt(n_input_dim)\n",
    "W2 = np.random.randn(n_h1_dim, n_output_dim)/np.sqrt(n_h1_dim)\n",
    "b1 = np.zeros((1, n_h1_dim))\n",
    "b2 = np.zeros((1, n_output_dim))\n",
    "def sigmoid(x):\n",
    "    a = 1/(1 + np.exp(-x))\n",
    "    return a\n",
    "# z1 = X.dot(W1) + b1\n",
    "# a1 = sigmoid(z1)\n",
    "# z2 = a1.dot(W2) + b2\n",
    "# a2 = sigmoid(z2)\n",
    "model = { \n",
    "'W1': W1, 'b1': b1,'a1':sigmoid,'W2': W2, 'b2': b2,'a2':sigmoid\n",
    "}\n",
    "def cost_function_R(model,X,y):\n",
    "    model['W1'], model['b1'] = W1, b1\n",
    "    model['W2'], model['b2'] = W2, b2\n",
    "    z1 = X.dot(W1) + b1\n",
    "    a1 = sigmoid(z1)\n",
    "    z2 = a1.dot(W2) + b2\n",
    "    h = sigmoid(z2)\n",
    "    m = len(y)\n",
    "    cost = 1/(2*m)* np.sum(np.square(h-y))\n",
    "    return cost\n",
    "\n"
   ]
  },
  {
   "cell_type": "code",
   "execution_count": null,
   "metadata": {},
   "outputs": [],
   "source": [
    "m = len(y)\n",
    "#J_history = [cost_function_R(model,a2,y,0.1)]\n",
    "model['W1'], model['b1'] = W1, b1\n",
    "model['W2'], model['b2'] = W2, b2\n",
    "J_history=[]\n",
    "iteration=1000\n",
    "L=0\n",
    "learning_rate=0.1\n",
    "for i in range(iteration):\n",
    "    # forward propogation\n",
    "    z1 = X.dot(W1) + b1\n",
    "    a1 = sigmoid(z1)\n",
    "    z2 = a1.dot(W2) + b2\n",
    "    a2 = sigmoid(z2)\n",
    "                            \n",
    "    # back propogation                       \n",
    "    da2 = a2-y # from cost function\n",
    "    dz2 = da2*(a2*(1-a2))\n",
    "    dW2 = a1.dot(dz2)\n",
    "    db2 = np.sum(dz2,axis=0,keepdims=True)\n",
    "    da1 = dz2.dot(W2.T)\n",
    "    dz1 = da1*(a1*(1-a1))\n",
    "    dW1 =X.T.dot(dz1)\n",
    "    db1 = np.sum(dz1,axis=0,keepdims=True )\n",
    "    #parameter update\n",
    "    W1 = W1 - learning_rate/m * (dW1 + L*W1)\n",
    "    W2 = W2 - learning_rate/m * (dW2 + L*W2)\n",
    "    b1 = b1 - learning_rate/m * db1\n",
    "    b2 = b2 - learning_rate/m * db2\n",
    "    J_history.append(cost_function_R(model,a2,y))\n"
   ]
  },
  {
   "cell_type": "code",
   "execution_count": 20,
   "metadata": {},
   "outputs": [],
   "source": [
    "\n",
    "class NeuralNetwork:\n",
    "    def __init__(self, X, y):\n",
    "        self.input      = X\n",
    "        self.weights1   = np.random.rand(self.input.shape[1],4) \n",
    "        self.weights2   = np.random.rand(4,1)                 \n",
    "        self.y          = y\n",
    "        self.output     = np.zeros(self.y.shape)\n",
    "\n",
    "    def feedforward(self):\n",
    "        self.layer1 = sigmoid(np.dot(self.input, self.weights1))\n",
    "        self.output = sigmoid(np.dot(self.layer1, self.weights2))\n",
    "\n",
    "    def backprop(self):\n",
    "        # application of the chain rule to find derivative of the loss function with respect to weights2 and weights1\n",
    "        d_weights2 = np.dot(self.layer1.T, (2*(self.y - self.output) * sigmoid_derivative(self.output)))\n",
    "        d_weights1 = np.dot(self.input.T,  (np.dot(2*(self.y - self.output) * sigmoid_derivative(self.output), self.weights2.T) * sigmoid_derivative(self.layer1)))\n",
    "\n",
    "        # update the weights with the derivative (slope) of the loss function\n",
    "        self.weights1 += d_weights1\n",
    "        self.weights2 += d_weights2"
   ]
  },
  {
   "cell_type": "code",
   "execution_count": 8,
   "metadata": {},
   "outputs": [
    {
     "ename": "NameError",
     "evalue": "name 'feedforward' is not defined",
     "output_type": "error",
     "traceback": [
      "\u001b[1;31m---------------------------------------------------------------------------\u001b[0m",
      "\u001b[1;31mNameError\u001b[0m                                 Traceback (most recent call last)",
      "\u001b[1;32m<ipython-input-8-7d777f2af20f>\u001b[0m in \u001b[0;36m<module>\u001b[1;34m\u001b[0m\n\u001b[1;32m----> 1\u001b[1;33m \u001b[0mfeedforward\u001b[0m\u001b[1;33m(\u001b[0m\u001b[1;33m)\u001b[0m\u001b[1;33m\u001b[0m\u001b[1;33m\u001b[0m\u001b[0m\n\u001b[0m",
      "\u001b[1;31mNameError\u001b[0m: name 'feedforward' is not defined"
     ]
    }
   ],
   "source": [
    "feedforward()"
   ]
  },
  {
   "cell_type": "code",
   "execution_count": null,
   "metadata": {},
   "outputs": [],
   "source": []
  }
 ],
 "metadata": {
  "kernelspec": {
   "display_name": "Python 3",
   "language": "python",
   "name": "python3"
  },
  "language_info": {
   "codemirror_mode": {
    "name": "ipython",
    "version": 3
   },
   "file_extension": ".py",
   "mimetype": "text/x-python",
   "name": "python",
   "nbconvert_exporter": "python",
   "pygments_lexer": "ipython3",
   "version": "3.8.5"
  }
 },
 "nbformat": 4,
 "nbformat_minor": 4
}
