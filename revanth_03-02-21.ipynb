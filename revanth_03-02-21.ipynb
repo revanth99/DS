{
 "cells": [
  {
   "cell_type": "code",
   "execution_count": 12,
   "metadata": {},
   "outputs": [
    {
     "data": {
      "text/plain": [
       "((4, 'e'), (3, 'd'), (3, 'c'), (2, 'b'), (2, 'a'))"
      ]
     },
     "execution_count": 12,
     "metadata": {},
     "output_type": "execute_result"
    }
   ],
   "source": [
    "# exercise 12.1\n",
    "def most_frequent(string):\n",
    "    d = dict()\n",
    "    for k in string:\n",
    "        if k not in d:\n",
    "            d[k] = 1\n",
    "        else:\n",
    "            d[k] += 1\n",
    "\n",
    "        t = []\n",
    "        for x, q in d.items():\n",
    "            t.append((q, x))\n",
    "    return tuple(sorted(t, reverse=True))\n",
    "\n",
    "most_frequent('aabbccceeeeddd')"
   ]
  },
  {
   "cell_type": "code",
   "execution_count": 40,
   "metadata": {},
   "outputs": [],
   "source": [
    "# exercise 12.2\n",
    "def anagrams():\n",
    "    d = {}\n",
    "    fin = open('letters.txt')\n",
    "    for l in fin:\n",
    "        word = l.strip().lower()\n",
    "        t = list(word)\n",
    "        #t.sort()\n",
    "        t=tuple(sorted(t,reverse=True))\n",
    "        t = ''.join(t)\n",
    "\n",
    "        if t not in d:\n",
    "            d[t] = [word]\n",
    "        else:\n",
    "            d[t].append(word)\n",
    "    return d\n",
    "\n",
    "def setsInOrder(d):\n",
    "    t = []\n",
    "    for v in d.values():\n",
    "        if len(v) > 1:\n",
    "            t.append((len(v), v))\n",
    "    a=tuple(sorted(t,reverse=True))\n",
    "    for x in a:\n",
    "        print(x)\n",
    "\n"
   ]
  },
  {
   "cell_type": "code",
   "execution_count": 42,
   "metadata": {},
   "outputs": [
    {
     "name": "stdout",
     "output_type": "stream",
     "text": [
      "(6, ['abc', 'abc', 'cba', 'bac', 'acb', 'cab'])\n",
      "(3, ['revanthb', 'htnaverb', 'revnthab'])\n",
      "(2, ['revanth', 'revanth'])\n"
     ]
    }
   ],
   "source": [
    "#2\n",
    "anagram_map = anagrams()\n",
    "setsInOrder(anagram_map)"
   ]
  },
  {
   "cell_type": "code",
   "execution_count": null,
   "metadata": {},
   "outputs": [],
   "source": []
  },
  {
   "cell_type": "code",
   "execution_count": null,
   "metadata": {},
   "outputs": [],
   "source": []
  },
  {
   "cell_type": "code",
   "execution_count": 47,
   "metadata": {},
   "outputs": [],
   "source": [
    "def last_name_first(name):\n",
    "    d=name.split(' ')\n",
    "    d= [i for i in d[::-1]]\n",
    "    d=' ,'.join(d)\n",
    "    return d\n",
    "def rosters(name_lst, age_lst):\n",
    "    rev_name=[last_name_first(v) for v in name_lst]\n",
    "    roasters={v:k for v,k in zip(rev_name,age_lst)}\n",
    "    print(roasters)\n",
    "def age_roster(name_lst, age_lst):\n",
    "    rev_name=[last_name_first(v) for v in name_lst]\n",
    "    ages = list(age_lst)\n",
    "    roaster={v:k for v,k in zip(rev_name,ages)}\n",
    "    age={}\n",
    "    for v,k in roaster.items():\n",
    "        if k not in age:\n",
    "            age[k]=[v]\n",
    "        else:\n",
    "            age[k].append(v)\n",
    "    return(age)\n"
   ]
  },
  {
   "cell_type": "code",
   "execution_count": 48,
   "metadata": {},
   "outputs": [
    {
     "name": "stdout",
     "output_type": "stream",
     "text": [
      "{'Adams ,John': '66', 'Tumbles ,Jill': '23', 'Copeland ,Aaron': '49', 'Dali ,Salvador': '66', 'Meadows ,Audrey': '54', 'Yeager ,Chuck': '67', 'Collins ,Phil': '23', 'Gabriel ,Peter': '25', 'Ross ,Betsey': '66'}\n",
      "{'66': ['Adams ,John', 'Dali ,Salvador', 'Ross ,Betsey'], '23': ['Tumbles ,Jill', 'Collins ,Phil'], '49': ['Copeland ,Aaron'], '54': ['Meadows ,Audrey'], '67': ['Yeager ,Chuck'], '25': ['Gabriel ,Peter']}\n"
     ]
    }
   ],
   "source": [
    "names = ['John Adams', 'Jill Tumbles', 'Aaron Copeland', 'Salvador Dali', 'Audrey Meadows', 'Chuck Yeager', 'Phil Collins', 'Peter Gabriel', 'Betsey Ross']\n",
    "ages = ['66', '23', '49', '66', '54', '67', '23', '25', '66']\n",
    "\n",
    "rosters(names, ages)\n",
    "print(age_roster(names, ages))\n"
   ]
  },
  {
   "cell_type": "code",
   "execution_count": 49,
   "metadata": {},
   "outputs": [
    {
     "name": "stdout",
     "output_type": "stream",
     "text": [
      "('66', '23', '49', '54', '67', '25')\n",
      "(['Adams ,John', 'Dali ,Salvador', 'Ross ,Betsey'], ['Tumbles ,Jill', 'Collins ,Phil'], ['Copeland ,Aaron'], ['Meadows ,Audrey'], ['Yeager ,Chuck'], ['Gabriel ,Peter'])\n"
     ]
    }
   ],
   "source": [
    "roster_name, roster_age= tuple(i for i in age_roster(names, ages).keys()),tuple(j for j in age_roster(names, ages).values())\n",
    "print(roster_name)\n",
    "print(roster_age)"
   ]
  },
  {
   "cell_type": "code",
   "execution_count": null,
   "metadata": {},
   "outputs": [],
   "source": []
  }
 ],
 "metadata": {
  "kernelspec": {
   "display_name": "Python 3",
   "language": "python",
   "name": "python3"
  },
  "language_info": {
   "codemirror_mode": {
    "name": "ipython",
    "version": 3
   },
   "file_extension": ".py",
   "mimetype": "text/x-python",
   "name": "python",
   "nbconvert_exporter": "python",
   "pygments_lexer": "ipython3",
   "version": "3.8.5"
  }
 },
 "nbformat": 4,
 "nbformat_minor": 4
}
