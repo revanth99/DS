{
 "cells": [
  {
   "cell_type": "code",
   "execution_count": 36,
   "metadata": {},
   "outputs": [
    {
     "name": "stdout",
     "output_type": "stream",
     "text": [
      "The given Point lies on circle: True\n",
      "Rectangle is inside the circle: False\n",
      "Rectangle overlaps circle: True\n"
     ]
    }
   ],
   "source": [
    "class point:\n",
    "    def print_point(self,a):\n",
    "        print(a.x,a.y)\n",
    "class circle:\n",
    "    def rect_in_circle(self,rect, circle):\n",
    "        p = rect.corner\n",
    "        p.x = p.x + rect.width\n",
    "        if not circle.point_in_circle(p, circle):\n",
    "            return False\n",
    "\n",
    "        p.y = p.y - rect.height\n",
    "        if not circle.point_in_circle(p, circle):\n",
    "            return False\n",
    "\n",
    "        p.x = p.x - rect.width\n",
    "        if not circle.point_in_circle(p, circle):\n",
    "            return False\n",
    "\n",
    "        return True\n",
    "    def point_in_circle(self,point,circle):\n",
    "        dis=circle.poin_distance(circle.center,point)\n",
    "        return dis==circle.radius\n",
    "    def poin_distance(self,a1,a2):\n",
    "        return ((a1.x-a2.x)**2+(a1.y-a2.y)**2)**0.5\n",
    "    \n",
    "    \n",
    "    def rect_circle_overlap(self,rect, circle):\n",
    "        p = rect.corner\n",
    "        p.x = p.x - rect.width\n",
    "        if circle.point_in_circle(p, circle):\n",
    "            return True\n",
    "\n",
    "        p.y = p.y - rect.height\n",
    "        if circle.point_in_circle(p, circle):\n",
    "            return True\n",
    "\n",
    "        p.x = p.x - rect.width\n",
    "        if circle.point_in_circle(p, circle):\n",
    "            return True\n",
    "\n",
    "        return False\n",
    "\n",
    "if __name__ == '__main__':\n",
    "    rect = circle()\n",
    "    rect.width = 8.0\n",
    "    rect.height = 6.0\n",
    "    rect.corner = point()\n",
    "    rect.corner.x = 0.0\n",
    "    rect.corner.y = 8.0\n",
    "    circle=circle()\n",
    "    circle.center=point()\n",
    "    circle.center.x,circle.center.y=0,0\n",
    "    circle.radius=8\n",
    "    print('The given Point lies on circle:',circle.point_in_circle(rect.corner, circle))\n",
    "    print('Rectangle is inside the circle:',circle.rect_in_circle(rect, circle))\n",
    "    print('Rectangle overlaps circle:',circle.rect_circle_overlap(rect, circle))"
   ]
  },
  {
   "cell_type": "code",
   "execution_count": null,
   "metadata": {},
   "outputs": [],
   "source": []
  }
 ],
 "metadata": {
  "kernelspec": {
   "display_name": "Python 3",
   "language": "python",
   "name": "python3"
  }
 },
 "nbformat": 4,
 "nbformat_minor": 4
}
