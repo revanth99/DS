{
 "cells": [
  {
   "cell_type": "code",
   "execution_count": 1,
   "metadata": {},
   "outputs": [
    {
     "data": {
      "text/plain": [
       "array([-0.09935124,  1.32468319])"
      ]
     },
     "execution_count": 1,
     "metadata": {},
     "output_type": "execute_result"
    }
   ],
   "source": [
    "import numpy as np\n",
    "def myfun():\n",
    "    x=np.array([[1,1,1,1,1,1,1,1,1,1,1,1],[2.9,-1.5,0.1,-1.0,2.1,-4.0,-2.0,2.2,0.2,2.9,1.5,-2.5]])    \n",
    "    y=np.array([4.0,-0.9,0.0,-1.0,3.0,-5.0,-3.5,2.6,1.0,3.5,1.0,-4.7])\n",
    "    c=x@x.T\n",
    "    d=np.linalg.inv(c)\n",
    "    e=np.transpose(x@y.T)\n",
    "    return d@e\n",
    "myfun()"
   ]
  },
  {
   "cell_type": "code",
   "execution_count": null,
   "metadata": {},
   "outputs": [],
   "source": []
  }
 ],
 "metadata": {
  "kernelspec": {
   "display_name": "Python 3",
   "language": "python",
   "name": "python3"
  },
  "language_info": {
   "codemirror_mode": {
    "name": "ipython",
    "version": 3
   },
   "file_extension": ".py",
   "mimetype": "text/x-python",
   "name": "python",
   "nbconvert_exporter": "python",
   "pygments_lexer": "ipython3",
   "version": "3.8.5"
  }
 },
 "nbformat": 4,
 "nbformat_minor": 4
}
